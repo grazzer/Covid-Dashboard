{
 "cells": [
  {
   "cell_type": "code",
   "execution_count": 4,
   "id": "02ca8517-e36c-476e-a1f5-9d5946130499",
   "metadata": {},
   "outputs": [],
   "source": [
    "# import required libraires \n",
    "from uk_covid19 import Cov19API\n",
    "from IPython.display import clear_output\n",
    "import json\n",
    "import pandas as pd\n",
    "import matplotlib.pyplot as plt\n",
    "import ipywidgets as wdg\n",
    "import datetime \n",
    "\n",
    "\n",
    "# Retrieves json data from API, splits data in to two json files one with the covid data one with download data \n",
    "# Adds a key value pair to the download data with the time downloaded from the API\n",
    "def getJson():\n",
    "    apiData = api.get_json()\n",
    "    covidData = wrangleData(apiData)\n",
    "    covidData.to_json(\"CovidData.json\")\n",
    "    timeNow = str(pd.to_datetime(\"now\"))\n",
    "    apiData['lastDownload']= timeNow\n",
    "    apiData.pop('data')\n",
    "    with open(\"downloadData.json\", \"wt\") as OUTF:\n",
    "        json.dump(apiData, OUTF)\n",
    "    return covidData\n",
    "\n",
    "# Using Pandas methods, the data is inputted in to a dataframe, the date is column is change to a dateTime object \n",
    "# And is set as the index for each row. the index is then sorted in to ascending order and copies are deleted \n",
    "# All Null values are set to 0\n",
    "def wrangleData(dataInput):\n",
    "    data = dataInput['data']\n",
    "    df = pd.DataFrame(data)\n",
    "    # df.drop(df.index[0:500],inplace=True) # used to delete data for testing refresh_graph func \n",
    "    df.set_index('date', inplace = True)\n",
    "    df.index = pd.to_datetime(df.index)\n",
    "    df.index.duplicated(keep='first')\n",
    "    df.sort_index(ascending=True, inplace=True)\n",
    "    df.fillna(0, inplace = True)\n",
    "    return df\n",
    "   \n",
    "# Called on button click, assigns the current df to the df from new API data, also calls a graph update\n",
    "def access_api(button):\n",
    "    global coviddf\n",
    "    coviddf= getJson() # Reassign df object to new API data\n",
    "    refresh_graph()\n",
    "    apibutton.icon=\"check\"\n",
    "    apibutton.disabled=True\n",
    "\n",
    "# Creates a graph using arguments form the widgets, determines what to display and at what time scale\n",
    "def Covid_graph(graphColumns, graphIndex):\n",
    "    coviddf.index[0]\n",
    "    if graphIndex == 'All Time':\n",
    "        timeScale = (coviddf.index[0],coviddf.index[-7])\n",
    "    else:  \n",
    "        timeScale = (coviddf.index[-69],coviddf.index[-7])\n",
    "    ncols=len(graphColumns)\n",
    "    if ncols>0:\n",
    "        coviddf.plot( y=list(graphColumns))\n",
    "        plt.xlim(timeScale)\n",
    "        plt.show()\n",
    "    else:\n",
    "        # if the user has not selected any column, print a message instead\n",
    "        print(\"Click to select data for graph\")\n",
    "        print(\"(CTRL-Click to select more than one category)\")\n",
    "\n",
    "# changes the values of the selectDate widget in order to force the graph to load the new API df\n",
    "def refresh_graph():\n",
    "    current=selectDate.value\n",
    "    if current==selectDate.options[0]:\n",
    "        other=selectDate.options[1]\n",
    "    else:\n",
    "        other=selectDate.options[0]\n",
    "    selectDate.value=other \n",
    "    selectDate.value=current\n",
    "\n",
    "# Assign a button from the ipywidgets library to the apibutton variable\n",
    "apibutton=wdg.Button(\n",
    "    description='Refresh data',\n",
    "    disabled=False,\n",
    "    button_style='',\n",
    "    tooltip='Click to download current Public Health England data',\n",
    "    icon='download' \n",
    ")\n",
    "\n",
    "# Assign a SelectMultiple from the ipywidgets library to the selectData variable\n",
    "selectData = wdg.SelectMultiple(\n",
    "    options=['cases', 'critical', 'deaths'], # options available in widget \n",
    "    value=['cases', 'critical', 'deaths'], # defult value of widget\n",
    "    rows=3,\n",
    "    description='Data', # displayed name of widget\n",
    "    disabled=False \n",
    ") \n",
    "\n",
    "# Assign a RadioButtons from the ipywidgets library to the selectDate variable\n",
    "selectDate=wdg.RadioButtons(\n",
    "    options=['Last 2 Months', 'All Time'],\n",
    "    value='All Time',\n",
    "    description='Scale:',\n",
    "    disabled=False\n",
    ")"
   ]
  },
  {
   "cell_type": "markdown",
   "id": "027c0fa0-5e3d-47f7-a85a-3f728b856c45",
   "metadata": {},
   "source": [
    "# Covid Dashboard "
   ]
  },
  {
   "cell_type": "markdown",
   "id": "df0d8afa-ee8c-44cc-ab8e-0538f016e06d",
   "metadata": {},
   "source": [
    "Graph showing official UK government coronavirus data for the United Kingdom\n"
   ]
  },
  {
   "cell_type": "code",
   "execution_count": 2,
   "id": "dde5cf3a-6af4-43bb-8da1-55839ba9142c",
   "metadata": {},
   "outputs": [
    {
     "data": {
      "application/vnd.jupyter.widget-view+json": {
       "model_id": "2b8145021cde46578110877ab0af4cd8",
       "version_major": 2,
       "version_minor": 0
      },
      "text/plain": [
       "Button(description='Refresh data', icon='download', style=ButtonStyle(), tooltip='Click to download current Pu…"
      ]
     },
     "metadata": {},
     "output_type": "display_data"
    }
   ],
   "source": [
    "# The filter and structure define the metrics and structure in which the data will be receive from the API\n",
    "filters = [\n",
    "    'areaType=overview' \n",
    "]\n",
    "\n",
    "structure = {\n",
    "    \"date\": \"date\",\n",
    "    \"cases\": \"newCasesByPublishDate\",\n",
    "    \"critical\": \"covidOccupiedMVBeds\",\n",
    "    \"deaths\": \"newDeaths28DaysByDeathDate\"\n",
    "}\n",
    "\n",
    "api = Cov19API(filters=filters, structure=structure)\n",
    "coviddf = pd.read_json(\"CovidData.json\") # Read the saved json file into a df object  \n",
    "\n",
    "%matplotlib inline\n",
    "plt.rcParams['figure.dpi'] = 100\n",
    "\n",
    "# display the API button and assign call back function \n",
    "display(apibutton)\n",
    "apibutton.on_click(access_api)\n",
    "\n"
   ]
  },
  {
   "cell_type": "markdown",
   "id": "ddd9b22d-682c-4f33-8498-d522feb0e5fc",
   "metadata": {},
   "source": [
    "\n",
    "The graph below compares the recorded covid cases, the number of covid patients in mechanical ventilation beds and the number of deaths within 28 days of positive test. \n",
    "\n",
    "These results can be seen all together or individually. The graphs can also be filtered to show either the whole covid period or the just the last 2 months (minus seven days, as results are released weekly)\n"
   ]
  },
  {
   "cell_type": "code",
   "execution_count": 3,
   "id": "a47afc5b-ada8-4af0-b849-eda58bd18e84",
   "metadata": {},
   "outputs": [
    {
     "data": {
      "application/vnd.jupyter.widget-view+json": {
       "model_id": "68040ebd1d0f4a2d81c58409c17e5119",
       "version_major": 2,
       "version_minor": 0
      },
      "text/plain": [
       "HBox(children=(SelectMultiple(description='Data', index=(0, 1, 2), options=('cases', 'critical', 'deaths'), ro…"
      ]
     },
     "metadata": {},
     "output_type": "display_data"
    },
    {
     "data": {
      "application/vnd.jupyter.widget-view+json": {
       "model_id": "f17d045f9e3f42709c17e4bc0bdeb9d3",
       "version_major": 2,
       "version_minor": 0
      },
      "text/plain": [
       "Output()"
      ]
     },
     "metadata": {},
     "output_type": "display_data"
    }
   ],
   "source": [
    "controls=wdg.HBox([selectData, selectDate]) # Create a horizontal container for the widgets \n",
    "output=wdg.interactive_output(Covid_graph, {'graphColumns': selectData, 'graphIndex': selectDate}) # Create an interactive container for the widgets and call the Covid_graph func\n",
    "display(controls, output) # Display graph and object containers "
   ]
  },
  {
   "cell_type": "markdown",
   "id": "7258d39a-3eeb-4a30-9ce6-11d9ccd9e0e5",
   "metadata": {},
   "source": [
    "*Author Graham Edwards - ec21955@qmul.ac.uk*"
   ]
  }
 ],
 "metadata": {
  "kernelspec": {
   "display_name": "Python 3 (ipykernel)",
   "language": "python",
   "name": "python3"
  },
  "language_info": {
   "codemirror_mode": {
    "name": "ipython",
    "version": 3
   },
   "file_extension": ".py",
   "mimetype": "text/x-python",
   "name": "python",
   "nbconvert_exporter": "python",
   "pygments_lexer": "ipython3",
   "version": "3.9.6"
  }
 },
 "nbformat": 4,
 "nbformat_minor": 5
}
